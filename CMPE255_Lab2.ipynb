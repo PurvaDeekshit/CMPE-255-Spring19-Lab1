{
 "cells": [
  {
   "cell_type": "code",
   "execution_count": 61,
   "metadata": {},
   "outputs": [
    {
     "name": "stdout",
     "output_type": "stream",
     "text": [
      "List:  [100, 49, 41, 40, 25, 10, 5, 4, 7, 20, 60]\n",
      "Sum of all elements in list:  361\n",
      "Length of list:  11\n",
      "Mean = 32.81818181818182\n",
      "\n",
      "List:  [100, 49, 41, 40, 25, 10, 5, 4, 7, 20, 60]\n",
      "Sorted list:  [4, 5, 7, 10, 20, 25, 40, 41, 49, 60, 100]\n",
      "Length of list:  11\n",
      "Mid:  5\n",
      "Median = 25\n"
     ]
    }
   ],
   "source": [
    "def mean_num_friends(x):\n",
    "    # TODO\n",
    "    print(\"List: \", x)\n",
    "    sum_of_all_elements = sum(x)\n",
    "    print(\"Sum of all elements in list: \", sum_of_all_elements)\n",
    "    length_of_list = len(x)\n",
    "    print(\"Length of list: \", length_of_list)\n",
    "    mean_of_list = sum_of_all_elements / length_of_list\n",
    "    return mean_of_list   \n",
    "\n",
    "def median_num_friends(x):\n",
    "    # TODO\n",
    "    print(\"List: \", x)\n",
    "    sorted_list = sorted(x)\n",
    "    print(\"Sorted list: \", sorted_list)\n",
    "    length_of_list = len(x)\n",
    "    print(\"Length of list: \", length_of_list)\n",
    "    mid = (length_of_list-1)//2\n",
    "    print(\"Mid: \", mid)\n",
    "    if (length_of_list % 2 != 0):\n",
    "        return sorted_list[mid]\n",
    "    else:\n",
    "        return ((sorted_list[mid] + sorted_list[mid + 1])/2)       \n",
    "\n",
    "num_friends=[100, 49, 41, 40, 25, 10, 5, 4, 7, 20, 60]\n",
    "\n",
    "print(\"Mean = {}\".format(mean_num_friends(num_friends)))\n",
    "print()\n",
    "print(\"Median = {}\".format(median_num_friends(num_friends)))"
   ]
  },
  {
   "cell_type": "code",
   "execution_count": 2,
   "metadata": {},
   "outputs": [],
   "source": [
    "matplotlib inline"
   ]
  },
  {
   "cell_type": "code",
   "execution_count": 20,
   "metadata": {},
   "outputs": [
    {
     "data": {
      "image/png": "[encoded data removed]",
      "text/plain": [
       "<Figure size 432x288 with 1 Axes>"
      ]
     },
     "metadata": {},
     "output_type": "display_data"
    }
   ],
   "source": [
    "from matplotlib import pyplot as plt\n",
    "import math\n",
    "import numpy as np\n",
    "\n",
    "def normal_pdf(x, mu=0, sigma=1):\n",
    "    # TODO\n",
    "    # hits: math.exp\n",
    "    num = np.exp(-((x-mu)**2))/(2*math.pi*((sigma)**2))\n",
    "    den = math.sqrt(2*math.pi*((sigma)**2))\n",
    "    n_pdf = num/den\n",
    "    return n_pdf\n",
    "\n",
    "xs = [x / 10.0 for x in range(-50, 50)]\n",
    "plt.plot(xs, [normal_pdf(x, sigma=1) for x in xs], '-', label='mu=0,sigma=1')\n",
    "plt.plot(xs, [normal_pdf(x, sigma=2) for x in xs], '-', label='mu=0,sigma=2')\n",
    "plt.plot(xs, [normal_pdf(x, sigma=0.5) for x in xs], '-', label='mu=0,sigma=0.5')\n",
    "plt.plot(xs, [normal_pdf(x, sigma=-1) for x in xs], '-', label='mu=0,sigma=-1')\n",
    "plt.legend()\n",
    "plt.show()"
   ]
  },
  {
   "cell_type": "code",
   "execution_count": null,
   "metadata": {},
   "outputs": [],
   "source": []
  }
 ],
 "metadata": {
  "kernelspec": {
   "display_name": "Python 3",
   "language": "python",
   "name": "python3"
  },
  "language_info": {
   "codemirror_mode": {
    "name": "ipython",
    "version": 3
   },
   "file_extension": ".py",
   "mimetype": "text/x-python",
   "name": "python",
   "nbconvert_exporter": "python",
   "pygments_lexer": "ipython3",
   "version": "3.6.5"
  }
 },
 "nbformat": 4,
 "nbformat_minor": 2
}
